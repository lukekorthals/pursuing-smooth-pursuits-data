{
 "cells": [
  {
   "cell_type": "markdown",
   "metadata": {},
   "source": [
    "Run this quickstart notebook to download the data and start inspecting it. \n"
   ]
  },
  {
   "cell_type": "code",
   "execution_count": null,
   "metadata": {},
   "outputs": [],
   "source": [
    "from eyemovement_data.utils import get_participant_ids, download_osf_data, clean_raw_data\n",
    "from eyemovement_data.preprocessor import OriginalPreprocessor\n",
    "from eyemovement_data.classifier import OriginalClassifier\n",
    "from eyemovement_data.participant import Participant"
   ]
  },
  {
   "cell_type": "markdown",
   "metadata": {},
   "source": [
    "## Download data from OSF\n",
    "\n",
    "Run the following chunk to download all data from OSF. \n",
    "\n",
    "This will create a `data/raw` folder with subfolders in your current working directory. "
   ]
  },
  {
   "cell_type": "code",
   "execution_count": null,
   "metadata": {},
   "outputs": [],
   "source": [
    "download_osf_data(out_dir=\"data/raw\", train_test=\"both\", participants=\"all\", overwrite=False)"
   ]
  },
  {
   "cell_type": "markdown",
   "metadata": {},
   "source": [
    "## Cleanup data\n",
    "\n",
    "Run the following chunk to cleanup the raw data. \n",
    "\n",
    "This saves the EyeLink data into csv files and performs some convenience cleaning (e.g., removing unnecessary columns, relabeling target trajectories, ...).\n",
    "\n",
    "The raw data will NOT be overwritten. Instead, data is saved to `data/clean/...`.\n",
    "\n",
    "If you run into an error, this is likely because you have not added the location of your `Rscript.exe` to your PATH environment variable. In this case, use the `r_exe_path` argument to specify the location of your `Rscript.exe` file or add it to your PATH environment variable.  \n"
   ]
  },
  {
   "cell_type": "code",
   "execution_count": null,
   "metadata": {},
   "outputs": [],
   "source": [
    "clean_raw_data()"
   ]
  },
  {
   "cell_type": "markdown",
   "metadata": {},
   "source": [
    "## Familiarizing yourself with the Participant() class"
   ]
  },
  {
   "cell_type": "markdown",
   "metadata": {},
   "source": [
    "### Loading data for a participant"
   ]
  },
  {
   "cell_type": "markdown",
   "metadata": {},
   "source": [
    "You can check for which participants data is available. "
   ]
  },
  {
   "cell_type": "code",
   "execution_count": null,
   "metadata": {},
   "outputs": [],
   "source": [
    "available_ids = get_participant_ids(data_path=\"data/raw\")\n",
    "available_ids.sort()\n",
    "available_ids"
   ]
  },
  {
   "cell_type": "markdown",
   "metadata": {},
   "source": [
    "You can load and work with the data for a given participant using the `Participant()` class.\n",
    "\n",
    "The `OriginalPreprocessor(Preprocessor)` and `OriginalClassifier(Classifier)` classes are used per default. \n",
    "\n",
    "If you want to implement your own preprocessing or classification protocols that work with the `Participant()` class, you can subclass the `Preprocessor()` and `Classifier()` classes. "
   ]
  },
  {
   "cell_type": "code",
   "execution_count": null,
   "metadata": {},
   "outputs": [],
   "source": [
    "# Loading data for the participant with the first available id\n",
    "p = Participant(id = available_ids[0],\n",
    "                preprocessor = OriginalPreprocessor(), # this is the default preprocessor\n",
    "                classifier = OriginalClassifier()) # this is the default classifier"
   ]
  },
  {
   "cell_type": "markdown",
   "metadata": {},
   "source": [
    "First you want to load the data for a given participant. \n",
    "\n",
    "- `set_raw_data()` loads data from `data/raw` (or the specified path) and assigns it to `Participant.raw_data`.\n",
    "\n",
    "- `set_clean_data()` loads data from `data/clean` (or the specified path) and assigns it to `Participant.clean_data`.\n",
    "\n",
    "- `set_preprocessed_data()` loads data from `data/preprocessed` (or the specified path) and assigns it to `Participant.preprocessed_data`.\n",
    "\n",
    "- `set_classified_data()` loads data from `data/classified` (or the specified path) and assigns it to `Participant.classified_data`.\n",
    "\n",
    "If you have not yet preprocessed/ classified any data, you should see warnings because no data is found. "
   ]
  },
  {
   "cell_type": "code",
   "execution_count": null,
   "metadata": {},
   "outputs": [],
   "source": [
    "p.set_raw_data(\"data/raw\")\n",
    "p.set_clean_data(\"data/clean\")\n",
    "p.set_preprocessed_data(\"data/preprocessed\")\n",
    "p.set_classified_data(\"data/classified\")"
   ]
  },
  {
   "cell_type": "markdown",
   "metadata": {},
   "source": [
    "### Preprocessing data for a participant"
   ]
  },
  {
   "cell_type": "markdown",
   "metadata": {},
   "source": [
    "Run `preprocess_clean_data()` to call the preprocessing protocol of the supplied `Preprocessor()` class. \n",
    "You can also call `run save_data()` to save the preprocessed data to disk. This way preprocessing only has to be done once. \n",
    "\n",
    "Per default the `OriginalPreprocessor()` is used to apply preprocessing according to the paper. \n",
    "\n",
    "If you implement your own `Preprocessor()` classes you should at least copy code for correcting target positions in back-and-forth circle trials, as they were collected incorrectly during data collection. \n",
    "\n",
    "`preprocess_clean_data()` allows passing **kwargs. The `OriginalPreprocessor()` class utilizes the following arguments:\n",
    "- `blink_offset`: Tuple of (before, after) offsets in milliseconds to classify samples around blinks also as blinks. Default is symmetrical (50, 50).\n",
    "- `rolling_mean_window`: Window size for rolling mean smoothing of gaze data. Default is 1 (no smoothing).\n"
   ]
  },
  {
   "cell_type": "code",
   "execution_count": null,
   "metadata": {},
   "outputs": [],
   "source": [
    "p.preprocess_clean_data(blink_offset=(50, 50), rolling_mean_window=1)\n",
    "p.save_data(out_path=\"data/preprocessed\", what=\"preprocessed\")"
   ]
  },
  {
   "cell_type": "markdown",
   "metadata": {},
   "source": [
    "### Classifying data"
   ]
  },
  {
   "cell_type": "markdown",
   "metadata": {},
   "source": [
    "Run `classify_preprocessed_data()` to assign even labels according the protocol in the `Classifier()` class. Again, you can save the classified data to only perform this step once. \n",
    "\n",
    "Per default the `OriginalClassifier()` is used, which establishes \"ground-truth\" labels based on a lightweight algorithm relying on dynamic velocity thresholds as explained in the paper. \n",
    "\n",
    "`classify_preprocessed_data()` allows passing **kwargs. The `OriginalClassifier()` class utilizes the following arguments:\n",
    "- `threshold_time_window`: Time window in seconds to select data for calculating the velocity threshold for each trial. Defaults to (0, 30) covering the entire trial.\n",
    "- `velocity_threshold_scaling_constant`: Scaling constant for the 75-percentile of of the velocity for calculating the threshold. Defaults to 1.5.\n",
    "- `min_sac_duration`: Minimum duration for classified saccades in seconds. Defaults to 0.01.\n",
    "- `min_fix_duration`: Minimum duration for classified fixations in seconds. Defaults to 0.01.\n",
    "- `min_sp_duration`: Minimum duration for classified smooth pursuits in seconds. Defaults to 0.01."
   ]
  },
  {
   "cell_type": "code",
   "execution_count": null,
   "metadata": {},
   "outputs": [],
   "source": [
    "p.classify_preprocessed_data(threshold_time_window=(0,30), \n",
    "                             velocity_threshold_scaling_constant=1.5,\n",
    "                             min_sac_duration=0.01,\n",
    "                             min_fix_duration=0.01,\n",
    "                             min_sp_duration=0.01)\n",
    "p.save_data(out_path=\"data/classified\", what=\"classified\")"
   ]
  },
  {
   "cell_type": "markdown",
   "metadata": {},
   "source": [
    "### Plotting data"
   ]
  },
  {
   "cell_type": "markdown",
   "metadata": {},
   "source": [
    "Finally, you can call `plot_trial()` to create a basic plot of the gaze- and target trajectories and the assigned \"ground-truth\" labels. \n",
    "\n",
    "This function is meant as a quick and easy way to create one particular plot and does not offer any customization options. "
   ]
  },
  {
   "cell_type": "code",
   "execution_count": null,
   "metadata": {},
   "outputs": [],
   "source": [
    "p.plot_trial(3)"
   ]
  },
  {
   "cell_type": "markdown",
   "metadata": {},
   "source": [
    "## Preprocessing and classifying data for all participants\n",
    "\n",
    "You can run the following cell to preprocess and classify data for all participants according to the protocol explained in the paper. The preprocessed and classified data will be saved to disk and you can use it for further analysis. "
   ]
  },
  {
   "cell_type": "code",
   "execution_count": null,
   "metadata": {},
   "outputs": [],
   "source": [
    "for id in available_ids:\n",
    "    # Initialize participant\n",
    "    p = Participant(id = id)\n",
    "\n",
    "    # Load raw and cleaned data\n",
    "    p.set_raw_data(\"data/raw\")\n",
    "    p.set_clean_data(\"data/clean\")\n",
    "\n",
    "    # Preprocess cleaned data and save it\n",
    "    p.preprocess_clean_data()\n",
    "    p.save_data(out_path=\"data/preprocessed\", what=\"preprocessed\")\n",
    "\n",
    "    # Classify preprocessed data and save it\n",
    "    p.classify_preprocessed_data()\n",
    "    p.save_data(out_path=\"data/classified\", what=\"classified\")"
   ]
  }
 ],
 "metadata": {
  "kernelspec": {
   "display_name": "psp-data",
   "language": "python",
   "name": "python3"
  },
  "language_info": {
   "codemirror_mode": {
    "name": "ipython",
    "version": 3
   },
   "file_extension": ".py",
   "mimetype": "text/x-python",
   "name": "python",
   "nbconvert_exporter": "python",
   "pygments_lexer": "ipython3",
   "version": "3.12.11"
  }
 },
 "nbformat": 4,
 "nbformat_minor": 2
}
